{
  "cells": [
    {
      "cell_type": "markdown",
      "metadata": {
        "id": "QNWAYtOH8JJM"
      },
      "source": [
        "# Exercise 2"
      ]
    },
    {
      "cell_type": "markdown",
      "metadata": {
        "id": "WqS_i0U78JJQ"
      },
      "source": [
        "#### Pre-defined stack functions"
      ]
    },
    {
      "cell_type": "code",
      "execution_count": 7,
      "metadata": {
        "id": "Q55AdD2y8JJR"
      },
      "outputs": [],
      "source": [
        "# Creating a stack\n",
        "def create_stack():\n",
        "    stack = []\n",
        "    return stack\n",
        "\n",
        "def print_stack(stack):\n",
        "\n",
        "    if (check_empty(stack)):\n",
        "            return \"stack is empty\"\n",
        "\n",
        "    # Create a copy of the stack and reverse the elements\n",
        "    tempStack = stack.copy()\n",
        "    tempStack.reverse()\n",
        "\n",
        "    # Print all elements using a loop\n",
        "    for i in tempStack:\n",
        "        print(i)\n",
        "\n",
        "    # Delete the copy to free up memory\n",
        "    del tempStack\n",
        "\n",
        "# Creating an empty stack\n",
        "def check_empty(stack):\n",
        "    return len(stack) == 0\n",
        "\n",
        "\n",
        "# Adding items into the stack\n",
        "def push(stack, item):\n",
        "    stack.append(item)\n",
        "    print(\"pushed item: \", item)\n",
        "\n",
        "\n",
        "# Removing an element from the stack\n",
        "def pop(stack):\n",
        "    if (check_empty(stack)):\n",
        "        return \"stack is empty\"\n",
        "\n",
        "    return stack.pop()\n",
        "\n",
        "def peek(stack):\n",
        "\n",
        "    # Use negative indexing to display the last element of the list\n",
        "    print(stack[-1])\n"
      ]
    },
    {
      "cell_type": "markdown",
      "metadata": {
        "id": "z5FA3bY38JJT"
      },
      "source": [
        "#### 1. Create a burger stack.  \n",
        "\n",
        "The output of the stack should be in this order:\n",
        "\n",
        "- Bun\n",
        "\n",
        "- Tomato\n",
        "\n",
        "- Lettuce\n",
        "\n",
        "- Cheese\n",
        "\n",
        "- Patty\n",
        "\n",
        "- Bun"
      ]
    },
    {
      "cell_type": "code",
      "execution_count": 8,
      "metadata": {
        "id": "n6yPehQq8JJU"
      },
      "outputs": [
        {
          "name": "stdout",
          "output_type": "stream",
          "text": [
            "pushed item:  Bun\n",
            "pushed item:  Tomato\n",
            "pushed item:  Lettuce\n",
            "pushed item:  Cheese\n",
            "pushed item:  Patty\n",
            "pushed item:  Bun\n",
            "\n",
            "Stack Order:\n",
            "['Bun', 'Tomato', 'Lettuce', 'Cheese', 'Patty', 'Bun']\n"
          ]
        }
      ],
      "source": [
        "# Put your answer here\n",
        "my_stack = create_stack()\n",
        "\n",
        "push(my_stack, \"Bun\")\n",
        "push(my_stack, \"Tomato\")\n",
        "push(my_stack, \"Lettuce\")\n",
        "push(my_stack, \"Cheese\")\n",
        "push(my_stack, \"Patty\")\n",
        "push(my_stack, \"Bun\")\n",
        "\n",
        "print(\"\")\n",
        "print(\"Stack Order:\")\n",
        "print(my_stack)\n"
      ]
    },
    {
      "cell_type": "markdown",
      "metadata": {
        "id": "W4XvryDA8JJU"
      },
      "source": [
        "#### 2. Reverse a string using a stack\n",
        "\n",
        "Given two stacks:\n",
        "\n",
        "**name_stack = ['E', 'L', 'I', 'Z', 'E', 'R']**\n",
        "\n",
        "**reversed_stack = []**\n",
        "\n",
        "Use your full name and pop each letter from the **name_stack** and push each element into the **reversed_stack**\n",
        "\n",
        "-----------------\n",
        "**Expected output:**\n",
        "\n",
        "print(reversed_stack)\n",
        "\n",
        "['R', 'J', 'O', 'I', 'N', 'O', 'P', 'R', 'E', 'Z', 'I', 'L', 'E']"
      ]
    },
    {
      "cell_type": "code",
      "execution_count": 9,
      "metadata": {
        "id": "BuPMzC-g8JJV"
      },
      "outputs": [
        {
          "name": "stdout",
          "output_type": "stream",
          "text": [
            "pushed item:  N\n",
            "pushed item:  E\n",
            "pushed item:  I\n",
            "pushed item:  L\n",
            "\n",
            "pushed item:  L\n",
            "pushed item:  I\n",
            "pushed item:  E\n",
            "pushed item:  N\n",
            "\n",
            "Stack Order:\n",
            "['L', 'I', 'E', 'N']\n"
          ]
        }
      ],
      "source": [
        "# put your answer here\n",
        "name_stack = create_stack()\n",
        "\n",
        "push(name_stack, \"N\")\n",
        "push(name_stack, \"E\")\n",
        "push(name_stack, \"I\")\n",
        "push(name_stack, \"L\")\n",
        "\n",
        "reverse_stack = create_stack()\n",
        "\n",
        "print(\"\")\n",
        "\n",
        "push(reverse_stack, pop(name_stack))\n",
        "push(reverse_stack, pop(name_stack))\n",
        "push(reverse_stack, pop(name_stack))\n",
        "push(reverse_stack, pop(name_stack))\n",
        "\n",
        "print(\"\")\n",
        "print(\"Stack Order:\")\n",
        "print(reverse_stack)\n"
      ]
    },
    {
      "cell_type": "markdown",
      "metadata": {
        "id": "coRKfCPZ8JJV"
      },
      "source": [
        "#### 3. Remove elements using a stack\n",
        "\n",
        "Given this stack:\n",
        "\n",
        "numbers = [1,2,3,4,5,6,7,8,9,10]\n",
        "\n",
        "Using the **pop()** function, push elements in the **new_stack** if they are an **even number**\n",
        "\n",
        "-----------------\n",
        "\n",
        "**Expected output:**\n",
        "\n",
        "print(numbers)\n",
        "\n",
        "[2,4,6,8,10]"
      ]
    },
    {
      "cell_type": "code",
      "execution_count": 10,
      "metadata": {
        "id": "zTXYampp8JJV"
      },
      "outputs": [
        {
          "name": "stdout",
          "output_type": "stream",
          "text": [
            "pushed item:  1\n",
            "pushed item:  2\n",
            "pushed item:  3\n",
            "pushed item:  4\n",
            "pushed item:  5\n",
            "pushed item:  6\n",
            "pushed item:  7\n",
            "pushed item:  8\n",
            "pushed item:  9\n",
            "pushed item:  10\n",
            "\n",
            "pushed item:  10\n",
            "pushed item:  8\n",
            "pushed item:  6\n",
            "pushed item:  4\n",
            "pushed item:  2\n",
            "\n",
            "Stack Order:\n",
            "[2, 4, 6, 8, 10]\n"
          ]
        }
      ],
      "source": [
        "# put your answer here\n",
        "number_stack = create_stack()\n",
        "\n",
        "i = 1\n",
        "\n",
        "while (i <= 10):\n",
        "    push(number_stack, i)\n",
        "    i = i + 1\n",
        "\n",
        "new_stack = create_stack()\n",
        "\n",
        "print(\"\")\n",
        "\n",
        "i = i - 1\n",
        "\n",
        "while i > 1:\n",
        "    modulo = i % 2\n",
        "    if modulo == 0:\n",
        "        push(new_stack, pop(number_stack))\n",
        "    elif modulo == 1:\n",
        "        pop(number_stack)\n",
        "\n",
        "    i = i - 1\n",
        "\n",
        "new_stack.reverse()\n",
        "print(\"\")\n",
        "print(\"Stack Order:\")\n",
        "print(new_stack)"
      ]
    },
    {
      "cell_type": "markdown",
      "metadata": {
        "id": "1s4LGmuT8JJW"
      },
      "source": [
        "#### 4. Inserting elements into a stack\n",
        "\n",
        "Given two stacks:\n",
        "\n",
        "my_stack = ['E', 'L', 'I', 'Z', 'E', 'R', 'P', 'O', 'N', 'I', 'O', 'J', 'R']\n",
        "\n",
        "empty_stack = []\n",
        "\n",
        "Use **pop()** to get each element from  **my_stack** and use **push()** to insert the element to **empty_stack** only if:\n",
        "\n",
        "1. The element is a **vowel**\n",
        "2. The element does not exist in **empty_stack**\n",
        "\n",
        "----------------------\n",
        "\n",
        "**Expected output:**\n",
        "\n",
        "print_stack(empty_stack)\n",
        "\n",
        "['E', 'I', 'O']"
      ]
    },
    {
      "cell_type": "code",
      "execution_count": 11,
      "metadata": {
        "id": "cGXh7yd18JJW"
      },
      "outputs": [
        {
          "name": "stdout",
          "output_type": "stream",
          "text": [
            "pushed item:  N\n",
            "pushed item:  E\n",
            "pushed item:  I\n",
            "pushed item:  I\n",
            "pushed item:  L\n",
            "\n",
            "pushed item:  E\n",
            "pushed item:  I\n",
            "pushed item:  I\n",
            "\n",
            "Stack Order:\n",
            "['E', 'I']\n"
          ]
        }
      ],
      "source": [
        "# put your answer here\n",
        "my_stack = create_stack()\n",
        "\n",
        "push(name_stack, \"N\")\n",
        "push(name_stack, \"E\")\n",
        "push(name_stack, \"I\")\n",
        "push(name_stack, \"I\")\n",
        "push(name_stack, \"L\")\n",
        "\n",
        "empty_stack = create_stack()\n",
        "print(\"\")\n",
        "\n",
        "vowels = [\"A\", \"E\", \"I\", \"O\", \"U\"]\n",
        "\n",
        "length = len(name_stack)\n",
        "\n",
        "i = 0\n",
        "store = \"\"\n",
        "\n",
        "while (i < length):\n",
        "    if (name_stack[i] == \"A\" or name_stack[i] == \"E\" or name_stack[i] == \"I\" or name_stack[i] == \"O\" or name_stack[i] == \"U\"):\n",
        "        push(empty_stack, name_stack[i])\n",
        "        \n",
        "        if name_stack[i] in store:\n",
        "            pop(empty_stack)\n",
        "\n",
        "        store = store + name_stack[i]\n",
        "\n",
        "    i = i + 1\n",
        "\n",
        "print(\"\")\n",
        "print(\"Stack Order:\")\n",
        "print(empty_stack)"
      ]
    },
    {
      "cell_type": "markdown",
      "metadata": {
        "id": "cwtpya5m8JJX"
      },
      "source": [
        "#### 5. Sort elements in a stack\n",
        "\n",
        "Given two stacks:\n",
        "\n",
        "number_stack = [3,1,2]\n",
        "\n",
        "sorted_stack = []\n",
        "\n",
        "Create a **sort()** function to pop each element from the **number_stack** and push each element into the **sorted_stack**. The elements in **sorted_stack** must be in ascending order.\n",
        "\n",
        "----------------\n",
        "\n",
        "**Hint:**\n",
        "\n",
        "| iteration | number_stack | sorted_stack |\n",
        "| --- | --- | --- |\n",
        "| 1 | [3, 1, 2] | [] |\n",
        "| 2 | [3, 1] | [2] |\n",
        "| 3 | [3, 2] | [1] |\n",
        "| 4 | [3] | [1, 2] |\n",
        "| 5 | [] | [1, 2, 3] |\n",
        "\n",
        "**Expected output:**\n",
        "\n",
        "print(sorted_stack)\n",
        "\n",
        "[1, 2, 3]"
      ]
    },
    {
      "cell_type": "code",
      "execution_count": 12,
      "metadata": {
        "id": "XrLee2zo8JJX"
      },
      "outputs": [
        {
          "name": "stdout",
          "output_type": "stream",
          "text": [
            "pushed item:  3\n",
            "pushed item:  1\n",
            "pushed item:  2\n",
            "\n",
            "pushed item:  2\n",
            "pushed item:  2\n",
            "pushed item:  1\n",
            "pushed item:  3\n",
            "pushed item:  3\n",
            "pushed item:  2\n",
            "pushed item:  3\n",
            "\n",
            "Stack Order:\n",
            "[1, 2, 3]\n"
          ]
        }
      ],
      "source": [
        "# put your answer here\n",
        "def sort(number_stack, sorted_stack):\n",
        "    print(\"\")\n",
        "\n",
        "    while(check_empty(number_stack) == False):\n",
        "        push(sorted_stack, pop(number_stack))\n",
        "        \n",
        "        if(check_empty(number_stack) == True):\n",
        "            return sorted_stack\n",
        "        elif (sorted_stack[-1] > number_stack[-1]):\n",
        "                number_stack.reverse()\n",
        "                push(number_stack, pop(sorted_stack))\n",
        "                number_stack.reverse()\n",
        "\n",
        "    return sorted_stack\n",
        "\n",
        "number_stack = create_stack()\n",
        "\n",
        "push(number_stack, 3)\n",
        "push(number_stack, 1)\n",
        "push(number_stack, 2)\n",
        "\n",
        "sorted_stack = create_stack()\n",
        "\n",
        "sorted_stack = sort(number_stack, sorted_stack)\n",
        "\n",
        "print(\"\")\n",
        "print(\"Stack Order:\")\n",
        "print(sorted_stack)"
      ]
    }
  ],
  "metadata": {
    "colab": {
      "provenance": []
    },
    "kernelspec": {
      "display_name": "Python 3",
      "language": "python",
      "name": "python3"
    },
    "language_info": {
      "codemirror_mode": {
        "name": "ipython",
        "version": 3
      },
      "file_extension": ".py",
      "mimetype": "text/x-python",
      "name": "python",
      "nbconvert_exporter": "python",
      "pygments_lexer": "ipython3",
      "version": "3.10.11"
    },
    "orig_nbformat": 4
  },
  "nbformat": 4,
  "nbformat_minor": 0
}
