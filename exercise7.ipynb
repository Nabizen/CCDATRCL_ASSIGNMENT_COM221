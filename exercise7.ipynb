{
  "cells": [
    {
      "cell_type": "markdown",
      "metadata": {
        "colab_type": "text",
        "id": "view-in-github"
      },
      "source": [
        "<a href=\"https://colab.research.google.com/github/robitussin/CCDATRCL_EXERCISES/blob/main/exercise7.ipynb\" target=\"_parent\"><img src=\"https://colab.research.google.com/assets/colab-badge.svg\" alt=\"Open In Colab\"/></a>"
      ]
    },
    {
      "cell_type": "markdown",
      "metadata": {
        "id": "e3Ja3uozAJlw"
      },
      "source": [
        "# Exercise 7"
      ]
    },
    {
      "cell_type": "code",
      "execution_count": 67,
      "metadata": {
        "id": "IW6uTwU8AJly"
      },
      "outputs": [],
      "source": [
        "class Node:\n",
        "    def __init__(self, item):\n",
        "        self.left = None\n",
        "        self.right = None\n",
        "        self.val = item"
      ]
    },
    {
      "cell_type": "code",
      "execution_count": 68,
      "metadata": {
        "id": "uxVFuimIAJlz"
      },
      "outputs": [],
      "source": [
        "def evaluateExpressionTree(root):\n",
        "\n",
        "    # empty tree\n",
        "    if root is None:\n",
        "        return 0\n",
        "\n",
        "    # leaf node\n",
        "    if root.left is None and root.right is None:\n",
        "        return int(root.val)\n",
        "\n",
        "    # evaluate left tree\n",
        "    left_sum = evaluateExpressionTree(root.left)\n",
        "\n",
        "    # evaluate right tree\n",
        "    right_sum = evaluateExpressionTree(root.right)\n",
        "\n",
        "    # check which operation to apply\n",
        "    if root.val == '+':\n",
        "        return left_sum + right_sum\n",
        "\n",
        "    elif root.val == '-':\n",
        "        return left_sum - right_sum\n",
        "\n",
        "    elif root.val == '*':\n",
        "        return left_sum * right_sum\n",
        "\n",
        "    else:\n",
        "        return left_sum / right_sum"
      ]
    },
    {
      "cell_type": "code",
      "execution_count": 69,
      "metadata": {
        "id": "-xWZXA-mAJl0"
      },
      "outputs": [],
      "source": [
        "def inorder(root):\n",
        "\n",
        "    if root:\n",
        "        # Traverse left\n",
        "        inorder(root.left)\n",
        "        # Traverse root\n",
        "        print(str(root.val) + \"->\", end='')\n",
        "        # Traverse right\n",
        "        inorder(root.right)"
      ]
    },
    {
      "cell_type": "markdown",
      "metadata": {
        "id": "CVtqxh5DAJl1"
      },
      "source": [
        "#### 1. Construct a binary expression tree\n",
        "\n",
        "\n",
        "- Use the evaluateExpressionTree method to get the result of the expression\n",
        "- Use the inorder method to traverse the tree  \n",
        "\n",
        "$$ (8 + 4) * (7 - 9) $$"
      ]
    },
    {
      "cell_type": "code",
      "execution_count": 70,
      "metadata": {
        "id": "CxpP0zcVAJl1"
      },
      "outputs": [
        {
          "name": "stdout",
          "output_type": "stream",
          "text": [
            "Answer: -24\n",
            "In-order:\n",
            "8->+->4->*->7->-->9->"
          ]
        }
      ],
      "source": [
        "# put your answer here\n",
        "root1 = Node(\"*\")\n",
        "root1.left = Node(\"+\")\n",
        "root1.left.left = Node(\"8\")\n",
        "root1.left.right = Node(\"4\")\n",
        "\n",
        "root1.right = Node(\"-\")\n",
        "root1.right.left = Node(\"7\")\n",
        "root1.right.right = Node(\"9\")\n",
        "\n",
        "print(\"Answer:\", evaluateExpressionTree(root1))\n",
        "print(\"In-order:\")\n",
        "inorder(root1)"
      ]
    },
    {
      "cell_type": "markdown",
      "metadata": {
        "id": "jc5KHLk6AJl2"
      },
      "source": [
        "#### 2. Construct a binary expression tree\n",
        "\n",
        "- Use the evaluateExpressionTree method to get the result of the expression\n",
        "- Use the inorder method to traverse the tree  \n",
        "\n",
        "$$ 5 / 8 + 3 - 6 * 1 $$"
      ]
    },
    {
      "cell_type": "code",
      "execution_count": 71,
      "metadata": {
        "id": "XORzqkC3AJl2"
      },
      "outputs": [
        {
          "name": "stdout",
          "output_type": "stream",
          "text": [
            "Answer: -2.375\n",
            "In-order:\n",
            "5->/->8->+->3->-->6->*->1->"
          ]
        }
      ],
      "source": [
        "# put your answer here\n",
        "root2 = Node(\"-\")\n",
        "root2.left = Node(\"+\")\n",
        "root2.left.left = Node(\"/\")\n",
        "root2.left.left.left = Node(\"5\")\n",
        "root2.left.left.right = Node(\"8\")\n",
        "root2.left.right = Node(\"3\")\n",
        "\n",
        "root2.right = Node(\"*\")\n",
        "root2.right.left = Node(\"6\")\n",
        "root2.right.right = Node(\"1\")\n",
        "\n",
        "print(\"Answer:\", evaluateExpressionTree(root2))\n",
        "print(\"In-order:\")\n",
        "inorder(root2)"
      ]
    },
    {
      "cell_type": "markdown",
      "metadata": {
        "id": "tu3n5ZdWAJl2"
      },
      "source": [
        "#### 3. Construct a binary expression tree\n",
        "\n",
        "- Use the evaluateExpressionTree method to get the result of the expression\n",
        "- Use the inorder method to traverse the tree  \n",
        "\n",
        "$$ ((2 + 5) / 3)- (3 + 8) $$"
      ]
    },
    {
      "cell_type": "code",
      "execution_count": 72,
      "metadata": {
        "id": "5GvZBxgtAJl3"
      },
      "outputs": [
        {
          "name": "stdout",
          "output_type": "stream",
          "text": [
            "Answer: -8.666666666666666\n",
            "In-order:\n",
            "5->/->8->+->3->-->6->*->1->"
          ]
        }
      ],
      "source": [
        "# put your answer here\n",
        "root3 = Node(\"-\")\n",
        "root3.left = Node(\"/\")\n",
        "root3.left.left = Node(\"+\")\n",
        "root3.left.left.left = Node(\"2\")\n",
        "root3.left.left.right = Node(\"5\")\n",
        "root3.left.right = Node(\"3\")\n",
        "\n",
        "root3.right = Node(\"+\")\n",
        "root3.right.left = Node(\"3\")\n",
        "root3.right.right = Node(\"8\")\n",
        "\n",
        "print(\"Answer:\", evaluateExpressionTree(root3))\n",
        "print(\"In-order:\")\n",
        "inorder(root2)"
      ]
    }
  ],
  "metadata": {
    "colab": {
      "include_colab_link": true,
      "provenance": []
    },
    "kernelspec": {
      "display_name": "Python 3",
      "language": "python",
      "name": "python3"
    },
    "language_info": {
      "codemirror_mode": {
        "name": "ipython",
        "version": 3
      },
      "file_extension": ".py",
      "mimetype": "text/x-python",
      "name": "python",
      "nbconvert_exporter": "python",
      "pygments_lexer": "ipython3",
      "version": "3.11.4"
    },
    "orig_nbformat": 4
  },
  "nbformat": 4,
  "nbformat_minor": 0
}
