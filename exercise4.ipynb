{
  "cells": [
    {
      "cell_type": "markdown",
      "metadata": {
        "colab_type": "text",
        "id": "view-in-github"
      },
      "source": [
        "<a href=\"https://colab.research.google.com/github/robitussin/CCDATRCL_EXERCISES/blob/main/exercise4.ipynb\" target=\"_parent\"><img src=\"https://colab.research.google.com/assets/colab-badge.svg\" alt=\"Open In Colab\"/></a>"
      ]
    },
    {
      "cell_type": "markdown",
      "metadata": {
        "id": "fCO3VeNzvGDc"
      },
      "source": [
        "# Exercise 4"
      ]
    },
    {
      "cell_type": "markdown",
      "metadata": {},
      "source": [
        "#### Pre-defined sorting algorithms"
      ]
    },
    {
      "cell_type": "code",
      "execution_count": 159,
      "metadata": {},
      "outputs": [],
      "source": [
        "def mergeSort(array):\n",
        "    global merge_sort_num_steps\n",
        "    if len(array) > 1:\n",
        "\n",
        "        #  r is the point where the array is divided into two subarrays\n",
        "        r = len(array)//2\n",
        "        L = array[:r]\n",
        "        M = array[r:]\n",
        "        merge_sort_num_steps += 1\n",
        "\n",
        "        # Sort the two halves\n",
        "        mergeSort(L)\n",
        "        mergeSort(M)\n",
        "\n",
        "        i = j = k = 0\n",
        "\n",
        "        # Until we reach either end of either L or M, pick larger among\n",
        "        # elements L and M and place them in the correct position at A[p..r]\n",
        "        while i < len(L) and j < len(M):\n",
        "            if L[i] < M[j]:\n",
        "                array[k] = L[i]\n",
        "                i += 1\n",
        "            else:\n",
        "                array[k] = M[j]\n",
        "                j += 1\n",
        "            k += 1\n",
        "            merge_sort_num_steps += 1\n",
        "\n",
        "        # When we run out of elements in either L or M,\n",
        "        # pick up the remaining elements and put in A[p..r]\n",
        "        while i < len(L):\n",
        "            array[k] = L[i]\n",
        "            i += 1\n",
        "            k += 1\n",
        "            merge_sort_num_steps += 1\n",
        "\n",
        "        while j < len(M):\n",
        "            array[k] = M[j]\n",
        "            j += 1\n",
        "            k += 1\n",
        "            merge_sort_num_steps += 1\n",
        "\n",
        "# Print the array\n",
        "def printList(array):\n",
        "    for i in range(len(array)):\n",
        "        print(array[i], end=\" \")\n",
        "    print()"
      ]
    },
    {
      "cell_type": "code",
      "execution_count": 160,
      "metadata": {},
      "outputs": [],
      "source": [
        "def countingSort(array):\n",
        "    global counting_sort_num_steps\n",
        "    size = len(array)\n",
        "    output = [0] * size\n",
        "\n",
        "    # Initialize count array\n",
        "    count = [0] * 10\n",
        "\n",
        "    # Store the count of each elements in count array\n",
        "    for i in range(0, size):\n",
        "        count[array[i]] += 1\n",
        "        counting_sort_num_steps += 1\n",
        "\n",
        "    # Store the cummulative count\n",
        "    for i in range(1, 10):\n",
        "        count[i] += count[i - 1]\n",
        "        counting_sort_num_steps += 1\n",
        "\n",
        "    # Find the index of each element of the original array in count array\n",
        "    # place the elements in output array\n",
        "    i = size - 1\n",
        "    while i >= 0:\n",
        "        output[count[array[i]] - 1] = array[i]\n",
        "        count[array[i]] -= 1\n",
        "        i -= 1\n",
        "        counting_sort_num_steps += 1\n",
        "\n",
        "    # Copy the sorted elements into original array\n",
        "    for i in range(0, size):\n",
        "        array[i] = output[i]\n"
      ]
    },
    {
      "cell_type": "code",
      "execution_count": 161,
      "metadata": {},
      "outputs": [],
      "source": [
        "def insertionSort(array):\n",
        "    global total_steps\n",
        "    for step in range(1, len(array)):\n",
        "        total_steps += 1\n",
        "        key = array[step]\n",
        "        j = step - 1\n",
        "    \n",
        "        # Compare key with each element on the left of it until an element smaller than it is found\n",
        "        # For descending order, change key<array[j] to key>array[j].        \n",
        "        while j >= 0 and key < array[j]:\n",
        "            total_steps += 1\n",
        "            array[j + 1] = array[j]\n",
        "            j = j - 1\n",
        "    \n",
        "        # Place key at after the element just smaller than it.\n",
        "        total_steps += 1\n",
        "        array[j + 1] = key\n",
        "    "
      ]
    },
    {
      "cell_type": "code",
      "execution_count": 162,
      "metadata": {},
      "outputs": [],
      "source": [
        "def bubbleSort(array):\n",
        "  global total_swaps\n",
        "  # loop to access each array element\n",
        "  for i in range(len(array)):\n",
        "\n",
        "    # loop to compare array elements\n",
        "    for j in range(0, len(array) - i - 1):\n",
        "\n",
        "      # compare two adjacent elements\n",
        "      # change > to < to sort in descending order\n",
        "      if array[j] > array[j + 1]:\n",
        "        total_swaps += 1\n",
        "\n",
        "        # swapping elements if elements\n",
        "        # are not in the intended order\n",
        "        temp = array[j]\n",
        "        array[j] = array[j+1]\n",
        "        array[j+1] = temp"
      ]
    },
    {
      "cell_type": "markdown",
      "metadata": {
        "id": "6j9PZVsyvGDe"
      },
      "source": [
        "#### 1. Sort your **student number** in **ascending order**\n",
        "\n",
        "Example:\n",
        "\n",
        "**Input: 2022123456**\n",
        "\n",
        "**Output: 0122223456**"
      ]
    },
    {
      "cell_type": "code",
      "execution_count": 165,
      "metadata": {
        "id": "UuNMRCm3vGDe"
      },
      "outputs": [
        {
          "name": "stdout",
          "output_type": "stream",
          "text": [
            "[0, 1, 2, 2, 2, 2, 3, 4, 5, 6]\n"
          ]
        }
      ],
      "source": [
        "# put your answer here\n",
        "student_numbers = [2,0,2,2,1,2,3,4,5,6]\n",
        "\n",
        "countingSort(student_numbers)\n",
        "\n",
        "print(student_numbers)"
      ]
    },
    {
      "cell_type": "markdown",
      "metadata": {
        "id": "felukBjnvGDf"
      },
      "source": [
        "#### 2. Sort the **dates** in **ascending order**.\n",
        "\n",
        "dates = [\"12-25-2023\", birthday, \"01-01-2023\"]\n",
        "\n",
        "Enter your birthday in the birthday variable."
      ]
    },
    {
      "cell_type": "code",
      "execution_count": null,
      "metadata": {
        "id": "f8xQ3N0jvGDg"
      },
      "outputs": [
        {
          "name": "stdout",
          "output_type": "stream",
          "text": [
            "['01-01-2023', '02-09-2004', '12-25-2023']\n"
          ]
        }
      ],
      "source": [
        "# put your answer here\n",
        "birthday = \"02-09-2004\"\n",
        "\n",
        "dates = [\"12-25-2023\", birthday, \"01-01-2023\"]\n",
        "\n",
        "mergeSort(dates, None)\n",
        "\n",
        "print(dates)"
      ]
    },
    {
      "cell_type": "markdown",
      "metadata": {
        "id": "IFDPeGZxvGDg"
      },
      "source": [
        "#### 3. Count the **total number of swaps** to sort the list below using **Bubble Sort**\n",
        "\n",
        "|3|2|5|1|4|\n",
        "|---|----|---|---|---|"
      ]
    },
    {
      "cell_type": "code",
      "execution_count": 167,
      "metadata": {
        "id": "b1ppwLcevGDg",
        "outputId": "b38a47a6-764e-48c4-9612-2278fb72422a"
      },
      "outputs": [
        {
          "name": "stdout",
          "output_type": "stream",
          "text": [
            "Sorted array\n",
            "[1, 2, 3, 4, 5]\n",
            "Number of swaps:  5\n"
          ]
        }
      ],
      "source": [
        "# put your answer here\n",
        "swap_numbers = [3,2,5,1,4]\n",
        "total_swaps = 0\n",
        "\n",
        "bubbleSort(swap_numbers)\n",
        "\n",
        "num_of_swaps = total_swaps\n",
        "\n",
        "print(\"Sorted array\")\n",
        "print(swap_numbers)\n",
        "\n",
        "print(\"Number of swaps: \" , num_of_swaps)"
      ]
    },
    {
      "cell_type": "markdown",
      "metadata": {
        "id": "iO2UusQWvGDi"
      },
      "source": [
        "#### 4. Count the **total number of steps** to sort the list below using **Insertion Sort**\n",
        "\n",
        "\n",
        "|6|2|5|7|4|1|8|9|3|\n",
        "|---|---|---|---|---|---|---|---|---|"
      ]
    },
    {
      "cell_type": "code",
      "execution_count": 169,
      "metadata": {
        "id": "vq1PYEjmvGDi",
        "outputId": "144516ac-ce19-470c-a41e-bd1b04da5dbe"
      },
      "outputs": [
        {
          "name": "stdout",
          "output_type": "stream",
          "text": [
            "Sorted array\n",
            "[1, 2, 3, 4, 5, 6, 7, 8, 9]\n",
            "Number of steps:  32\n"
          ]
        }
      ],
      "source": [
        "# put your answer here\n",
        "step_numbers = [6,2,5,7,4,1,8,9,3]\n",
        "total_steps = 0\n",
        "\n",
        "insertionSort(step_numbers)\n",
        "\n",
        "num_of_steps = total_steps\n",
        "\n",
        "print(\"Sorted array\")\n",
        "print(step_numbers)\n",
        "\n",
        "print(\"Number of steps: \" , num_of_steps)"
      ]
    },
    {
      "cell_type": "markdown",
      "metadata": {
        "id": "jpfNCCdbvGDj"
      },
      "source": [
        "#### 5. Given the list below:\n",
        "\n",
        "\n",
        "|7|5|4|3|2|5|1|8|\n",
        "|---|---|---|---|---|---|---|---|\n",
        "\n",
        "Using **merge sort** and **counting sort**\n",
        "\n",
        "Determine which sorting algorithm is faster by counting the total number of steps for each algorithm\n"
      ]
    },
    {
      "cell_type": "code",
      "execution_count": 174,
      "metadata": {
        "id": "2YVK17cSvGDj",
        "outputId": "31998f12-1678-4815-e6fe-d37781b0f0cc"
      },
      "outputs": [
        {
          "name": "stdout",
          "output_type": "stream",
          "text": [
            "Sorted merge array\n",
            "[1, 2, 3, 4, 5, 5, 7, 8]\n",
            "\n",
            "Sorted counting array\n",
            "[1, 2, 3, 4, 5, 5, 7, 8]\n",
            "\n",
            "counting sort is faster\n"
          ]
        }
      ],
      "source": [
        "# put your answer here\n",
        "merge_numbers = [7,5,4,3,2,5,1,8]\n",
        "merge_sort_num_steps = 0\n",
        "mergeSort(merge_numbers)\n",
        "num_of_merging_steps = merge_sort_num_steps\n",
        "\n",
        "print(\"Sorted merge array\")\n",
        "print(merge_numbers)\n",
        "print(\"\")\n",
        "\n",
        "counting_numbers = [7,5,4,3,2,5,1,8]\n",
        "counting_sort_num_steps = 0\n",
        "countingSort(counting_numbers)\n",
        "num_of_counting_steps = counting_sort_num_steps\n",
        "\n",
        "print(\"Sorted counting array\")\n",
        "print(counting_numbers)\n",
        "print(\"\")\n",
        "\n",
        "if merge_sort_num_steps < num_of_counting_steps:\n",
        "    print(\"Merge sort is faster\")\n",
        "else:\n",
        "    print(\"counting sort is faster\")"
      ]
    }
  ],
  "metadata": {
    "colab": {
      "include_colab_link": true,
      "provenance": []
    },
    "kernelspec": {
      "display_name": "Python 3",
      "language": "python",
      "name": "python3"
    },
    "language_info": {
      "codemirror_mode": {
        "name": "ipython",
        "version": 3
      },
      "file_extension": ".py",
      "mimetype": "text/x-python",
      "name": "python",
      "nbconvert_exporter": "python",
      "pygments_lexer": "ipython3",
      "version": "3.10.11"
    },
    "orig_nbformat": 4
  },
  "nbformat": 4,
  "nbformat_minor": 0
}
