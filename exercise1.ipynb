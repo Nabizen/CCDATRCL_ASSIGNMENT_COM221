{
  "cells": [
    {
      "cell_type": "markdown",
      "metadata": {
        "id": "h2vFiYhGzZOg"
      },
      "source": [
        "# Exercise 1"
      ]
    },
    {
      "cell_type": "markdown",
      "metadata": {
        "id": "sRm6kPQozcaU"
      },
      "source": [
        "## Class Initialization"
      ]
    },
    {
      "cell_type": "code",
      "execution_count": 68,
      "metadata": {
        "id": "b1u4Dt9mzZOi"
      },
      "outputs": [],
      "source": [
        "class Node:\n",
        "    def __init__(self, data):\n",
        "        self.data = data\n",
        "        self.next = None"
      ]
    },
    {
      "cell_type": "code",
      "execution_count": 69,
      "metadata": {
        "id": "tigvHSaHzZOj"
      },
      "outputs": [],
      "source": [
        "class LinkedList:\n",
        "\n",
        "    def __init__(self):\n",
        "        self.head = None\n",
        "\n",
        "    def traverse(self, node):\n",
        "        while node:\n",
        "            print(node.data, end=\" -> \")\n",
        "            node = node.next"
      ]
    },
    {
      "cell_type": "code",
      "execution_count": 70,
      "metadata": {
        "id": "LIkQBioVzZOk"
      },
      "outputs": [],
      "source": [
        "class DoublyLinkedList:\n",
        "\n",
        "    def __init__(self):\n",
        "        self.head = None\n",
        "\n",
        "    def traverse(self, node):\n",
        "        while node:\n",
        "            print(node.data, end=\" -> \")\n",
        "            node = node.next"
      ]
    },
    {
      "cell_type": "code",
      "execution_count": 71,
      "metadata": {
        "id": "zlxNT5EozZOl"
      },
      "outputs": [],
      "source": [
        "class CircularLinkedList:\n",
        "\n",
        "    def __init__(self):\n",
        "        self.head = None\n",
        "\n",
        "    def traverse(self, node):\n",
        "\n",
        "        head = node\n",
        "\n",
        "        while node:\n",
        "            print(node.data, end=\" -> \")\n",
        "            node = node.next\n",
        "\n",
        "            # Break to prevent infinite loop\n",
        "            if node == head:\n",
        "                break"
      ]
    },
    {
      "cell_type": "markdown",
      "metadata": {
        "id": "O68-Q1-bzZOl"
      },
      "source": [
        "#### 1. Create a Singly Linked list\n",
        "\n",
        "- Each node should contain your name and your seatmates\n",
        "- Create at least 5 nodes\n",
        "- Traverse all nodes"
      ]
    },
    {
      "cell_type": "code",
      "execution_count": 72,
      "metadata": {
        "id": "pTcx_OuPzZOl"
      },
      "outputs": [
        {
          "name": "stdout",
          "output_type": "stream",
          "text": [
            "Earl -> Neil -> Brando -> Francyne -> Kristel -> "
          ]
        }
      ],
      "source": [
        "class Node:\n",
        "\n",
        "    def __init__ (self, data):\n",
        "        self.data = data\n",
        "        self.next = None\n",
        "\n",
        "class LinkedList:\n",
        "\n",
        "    def __init__ (self):\n",
        "        self.head = None\n",
        "\n",
        "    def traverse(self, node):\n",
        "        while node:\n",
        "            print(node.data, end=\" -> \")\n",
        "            node = node.next\n",
        "\n",
        "linked_list = LinkedList()\n",
        "\n",
        "linked_list.head = Node(\"Earl\")\n",
        "node_b = Node(\"Neil\")\n",
        "node_c = Node(\"Brando\")\n",
        "node_d = Node(\"Francyne\")\n",
        "node_e = Node(\"Kristel\")\n",
        "\n",
        "linked_list.head.next = node_b\n",
        "node_b.next = node_c\n",
        "node_c.next = node_d\n",
        "node_d.next = node_e\n",
        "\n",
        "\n",
        "\n",
        "linked_list.traverse(linked_list.head)"
      ]
    },
    {
      "cell_type": "markdown",
      "metadata": {
        "id": "IFgwbdw_zZOm"
      },
      "source": [
        "#### 2. Create a Doubly Linked list\n",
        "\n",
        "- Each node should contain your name and your seatmates\n",
        "- Create at least 5 nodes\n",
        "- Traverse all nodes"
      ]
    },
    {
      "cell_type": "code",
      "execution_count": 73,
      "metadata": {
        "id": "8kQD2A_QzZOm"
      },
      "outputs": [
        {
          "name": "stdout",
          "output_type": "stream",
          "text": [
            "Head: Earl\n",
            "Next node of Head: Neil\n",
            "---\n",
            "Previous node of node_b: Earl\n",
            "node_b: Neil\n",
            "Next Node of node_b: Brando\n",
            "---\n",
            "Previous node of node_c: Neil\n",
            "node_c: Brando\n",
            "Next Node of node_c: Francyne\n",
            "---\n",
            "Previous node of node_d: Brando\n",
            "node_d: Francyne\n",
            "Next Node of node_d: Kristel\n",
            "---\n",
            "Previous node of node_e: Francyne\n",
            "node_e: Kristel\n",
            "---\n",
            "\n",
            "Display\n",
            "Earl -> Neil -> Brando -> Francyne -> Kristel -> "
          ]
        }
      ],
      "source": [
        "class Node:\n",
        "\n",
        "    def __init__(self, data):\n",
        "        self.data = data\n",
        "        self.next = None\n",
        "        self.prev = None\n",
        "\n",
        "class DoublyLinkedList:\n",
        "    \n",
        "    def __init__(self):\n",
        "        self.head = None\n",
        "        \n",
        "    def traverse(self, node):\n",
        "        while node:\n",
        "            print(node.data, end=\" -> \")\n",
        "            node = node.next\n",
        "\n",
        "doubly_linked_list = DoublyLinkedList()\n",
        "\n",
        "doubly_linked_list.head = Node(\"Earl\")\n",
        "node_b = Node(\"Neil\")\n",
        "node_c = Node(\"Brando\")\n",
        "node_d = Node(\"Francyne\")\n",
        "node_e = Node(\"Kristel\")\n",
        "\n",
        "doubly_linked_list.head.prev = None\n",
        "doubly_linked_list.head.next = node_b\n",
        "\n",
        "node_b.prev = doubly_linked_list.head\n",
        "node_b.next = node_c\n",
        "\n",
        "node_c.prev = node_b\n",
        "node_c.next = node_d\n",
        "\n",
        "node_d.prev = node_c\n",
        "node_d.next = node_e\n",
        "\n",
        "node_e.prev = node_d\n",
        "node_e.next = None\n",
        "\n",
        "print(\"Head:\", doubly_linked_list.head.data)\n",
        "print(\"Next node of Head:\", doubly_linked_list.head.next.data)\n",
        "\n",
        "print(\"---\")\n",
        "\n",
        "print(\"Previous node of node_b:\", node_b.prev.data)\n",
        "print(\"node_b:\", node_b.data)\n",
        "print(\"Next Node of node_b:\", node_b.next.data)\n",
        "\n",
        "print(\"---\")\n",
        "\n",
        "print(\"Previous node of node_c:\", node_c.prev.data)\n",
        "print(\"node_c:\", node_c.data)\n",
        "print(\"Next Node of node_c:\", node_c.next.data)\n",
        "\n",
        "print(\"---\")\n",
        "\n",
        "print(\"Previous node of node_d:\", node_d.prev.data)\n",
        "print(\"node_d:\", node_d.data)\n",
        "print(\"Next Node of node_d:\", node_d.next.data)\n",
        "\n",
        "print(\"---\")\n",
        "\n",
        "print(\"Previous node of node_e:\", node_e.prev.data)\n",
        "print(\"node_e:\", node_e.data)\n",
        "\n",
        "print(\"---\")\n",
        "print()\n",
        "print(\"Display\")\n",
        "\n",
        "doubly_linked_list.traverse(doubly_linked_list.head)"
      ]
    },
    {
      "cell_type": "markdown",
      "metadata": {
        "id": "rtApbsCjzZOm"
      },
      "source": [
        "#### 2. Create a Circular Linked list\n",
        "\n",
        "- Each node should contain your name and your seatmates\n",
        "- Create at least 5 nodes\n",
        "- Traverse all nodes"
      ]
    },
    {
      "cell_type": "code",
      "execution_count": 74,
      "metadata": {
        "id": "Gp1Oiq0jzZOn"
      },
      "outputs": [
        {
          "name": "stdout",
          "output_type": "stream",
          "text": [
            "Head: Earl\n",
            "Next node of Head: Neil\n",
            "---\n",
            "node_b: Neil\n",
            "Next Node of node_b: Brando\n",
            "---\n",
            "node_c: Brando\n",
            "Next Node of node_c: Francyne\n",
            "---\n",
            "node_d: Francyne\n",
            "Next Node of node_d: Kristel\n",
            "---\n",
            "node_e: Kristel\n",
            "value of next of node_c is : Earl\n",
            "---\n",
            "\n",
            "Display\n",
            "Earl -> Neil -> Brando -> Francyne -> Kristel -> "
          ]
        }
      ],
      "source": [
        "class Node:\n",
        "    def __init__(self, data):\n",
        "        self.data = data\n",
        "        self.next = None\n",
        "\n",
        "class CircularLinkedList:\n",
        "\n",
        "    def __init__(self):\n",
        "        self.head = None\n",
        "\n",
        "    def traverse(self, node):\n",
        "        \n",
        "        head = node\n",
        "        \n",
        "        while node:\n",
        "            print(node.data, end=\" -> \")\n",
        "            node = node.next\n",
        "            \n",
        "            # Break to prevent infinite loop\n",
        "            if node == head:\n",
        "                break\n",
        "\n",
        "circular_linked_list = CircularLinkedList()\n",
        "\n",
        "circular_linked_list.head = Node(\"Earl\")\n",
        "node_b = Node(\"Neil\")\n",
        "node_c = Node(\"Brando\")\n",
        "node_d = Node(\"Francyne\")\n",
        "node_e = Node(\"Kristel\")\n",
        "\n",
        "circular_linked_list.head.next = node_b\n",
        "node_b.next = node_c\n",
        "node_c.next = node_d\n",
        "node_d.next = node_e\n",
        "node_e.next = circular_linked_list.head\n",
        "\n",
        "print(\"Head:\", circular_linked_list.head.data)\n",
        "print(\"Next node of Head:\", circular_linked_list.head.next.data)\n",
        "\n",
        "print(\"---\")\n",
        "\n",
        "print(\"node_b:\", node_b.data)\n",
        "print(\"Next Node of node_b:\", node_b.next.data)\n",
        "\n",
        "print(\"---\")\n",
        "\n",
        "print(\"node_c:\", node_c.data)\n",
        "print(\"Next Node of node_c:\", node_c.next.data)\n",
        "\n",
        "print(\"---\")\n",
        "\n",
        "print(\"node_d:\", node_d.data)\n",
        "print(\"Next Node of node_d:\", node_d.next.data)\n",
        "\n",
        "print(\"---\")\n",
        "\n",
        "print(\"node_e:\", node_e.data)\n",
        "print(\"value of next of node_c is :\", node_e.next.data)\n",
        "\n",
        "print(\"---\")\n",
        "print()\n",
        "print(\"Display\")\n",
        "\n",
        "circular_linked_list.traverse(doubly_linked_list.head)"
      ]
    }
  ],
  "metadata": {
    "colab": {
      "provenance": []
    },
    "kernelspec": {
      "display_name": "Python 3",
      "language": "python",
      "name": "python3"
    },
    "language_info": {
      "codemirror_mode": {
        "name": "ipython",
        "version": 3
      },
      "file_extension": ".py",
      "mimetype": "text/x-python",
      "name": "python",
      "nbconvert_exporter": "python",
      "pygments_lexer": "ipython3",
      "version": "3.10.11"
    },
    "orig_nbformat": 4
  },
  "nbformat": 4,
  "nbformat_minor": 0
}
