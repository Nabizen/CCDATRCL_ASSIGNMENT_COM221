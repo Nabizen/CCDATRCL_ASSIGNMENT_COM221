{
  "cells": [
    {
      "cell_type": "markdown",
      "metadata": {
        "colab_type": "text",
        "id": "view-in-github"
      },
      "source": [
        "<a href=\"https://colab.research.google.com/github/robitussin/CCDATRCL_EXERCISES/blob/main/exercise5.ipynb\" target=\"_parent\"><img src=\"https://colab.research.google.com/assets/colab-badge.svg\" alt=\"Open In Colab\"/></a>"
      ]
    },
    {
      "cell_type": "markdown",
      "metadata": {
        "id": "DN15rkKvhGBr"
      },
      "source": [
        "# Exercise 5"
      ]
    },
    {
      "cell_type": "markdown",
      "metadata": {
        "id": "oEys_5t7hGBt"
      },
      "source": [
        "#### 1. Create a dictionary of your 10 favorite songs."
      ]
    },
    {
      "cell_type": "markdown",
      "metadata": {
        "id": "T1iOtzXshGBu"
      },
      "source": [
        "Example:\n",
        "\n",
        "|KEY|VALUE|\n",
        "|---|---|\n",
        "|001|My Love|\n",
        "|002|Like a rose|"
      ]
    },
    {
      "cell_type": "code",
      "execution_count": 39,
      "metadata": {
        "id": "dprOhMRchGBu"
      },
      "outputs": [],
      "source": [
        "# put your answer here\n",
        "song_dictionary = {\"001\": \"Everything Goes On\",\n",
        "                    \"002\": \"Try This\",\n",
        "                    \"003\": \"Highscore\",\n",
        "                    \"004\": \"Cycle Hit\",\n",
        "                    \"005\": \"Universal Collapse\",\n",
        "                    \"006\": \"Roar Of The Jungle Dragon\",\n",
        "                    \"007\": \"Future Candy\",\n",
        "                    \"008\": \"Candylandddd\",\n",
        "                    \"009\": \"Marble Soda\",\n",
        "                    \"010\": \"Die for you\"}\n"
      ]
    },
    {
      "cell_type": "markdown",
      "metadata": {
        "id": "g1FstA7XhGBv"
      },
      "source": [
        "#### 2. Loop through the dictionary by its **key** and **value**"
      ]
    },
    {
      "cell_type": "code",
      "execution_count": 40,
      "metadata": {
        "id": "QgyUTiuHhGBv"
      },
      "outputs": [
        {
          "name": "stdout",
          "output_type": "stream",
          "text": [
            "001 Everything Goes On\n",
            "002 Try This\n",
            "003 Highscore\n",
            "004 Cycle Hit\n",
            "005 Universal Collapse\n",
            "006 Roar Of The Jungle Dragon\n",
            "007 Future Candy\n",
            "008 Candylandddd\n",
            "009 Marble Soda\n",
            "010 Die for you\n"
          ]
        }
      ],
      "source": [
        "# put your answer here\n",
        "for x,y in song_dictionary.items():\n",
        "    print(x,y)"
      ]
    },
    {
      "cell_type": "markdown",
      "metadata": {
        "id": "h5N_w8-yhGBw"
      },
      "source": [
        "#### 3. Add one additional song"
      ]
    },
    {
      "cell_type": "code",
      "execution_count": 41,
      "metadata": {
        "id": "oUXMAJWEhGBw"
      },
      "outputs": [
        {
          "data": {
            "text/plain": [
              "{'001': 'Everything Goes On',\n",
              " '002': 'Try This',\n",
              " '003': 'Highscore',\n",
              " '004': 'Cycle Hit',\n",
              " '005': 'Universal Collapse',\n",
              " '006': 'Roar Of The Jungle Dragon',\n",
              " '007': 'Future Candy',\n",
              " '008': 'Candylandddd',\n",
              " '009': 'Marble Soda',\n",
              " '010': 'Die for you',\n",
              " '011': 'Moon Halo'}"
            ]
          },
          "execution_count": 41,
          "metadata": {},
          "output_type": "execute_result"
        }
      ],
      "source": [
        "# put your answer here\n",
        "song_dictionary[\"011\"] = \"Moon Halo\"\n",
        "song_dictionary"
      ]
    },
    {
      "cell_type": "markdown",
      "metadata": {
        "id": "7OlW5r9dhGBx"
      },
      "source": [
        "#### 4. Remove one song"
      ]
    },
    {
      "cell_type": "code",
      "execution_count": 42,
      "metadata": {
        "id": "g39mqwpDhGBx"
      },
      "outputs": [
        {
          "data": {
            "text/plain": [
              "{'001': 'Everything Goes On',\n",
              " '002': 'Try This',\n",
              " '003': 'Highscore',\n",
              " '004': 'Cycle Hit',\n",
              " '005': 'Universal Collapse',\n",
              " '006': 'Roar Of The Jungle Dragon',\n",
              " '007': 'Future Candy',\n",
              " '008': 'Candylandddd',\n",
              " '009': 'Marble Soda',\n",
              " '010': 'Die for you'}"
            ]
          },
          "execution_count": 42,
          "metadata": {},
          "output_type": "execute_result"
        }
      ],
      "source": [
        "# put your answer here\n",
        "song_dictionary.pop(\"011\")\n",
        "song_dictionary"
      ]
    },
    {
      "cell_type": "markdown",
      "metadata": {
        "id": "gZ8Sr1bzhGBy"
      },
      "source": [
        "#### 5. Create a nested dictionary of your 10 favorite songs with 5 genres. Display all of the items of the nested dictionary\n",
        "\n",
        "- Each nested dictionary's key should be the genre of the song\n",
        "- Put each song in their respective genre"
      ]
    },
    {
      "cell_type": "markdown",
      "metadata": {
        "id": "US1ZaaSJhGBy"
      },
      "source": [
        "Example:\n",
        "\n",
        "\n",
        "|KEY|VALUE|\n",
        "|---|---|\n",
        "|Pop|{001, Baby}|\n",
        "|Rock|{001, Enter Sandman}|"
      ]
    },
    {
      "cell_type": "code",
      "execution_count": 43,
      "metadata": {
        "id": "z577KULkhGBz"
      },
      "outputs": [],
      "source": [
        "# put your answer here\n",
        "new_song_dictionary = {\n",
        "    \"EDM\": {\n",
        "        \"001\":\"SwingTek\",\n",
        "        \"002\":\"BANANA STREET\",\n",
        "        \"003\":\"Try This\",\n",
        "        \"004\":\"Cycle Hit\",\n",
        "        \"005\":\"Highscore\"\n",
        "        },\n",
        "    \"JPOP\": {\n",
        "        \"001\":\"Odo\",\n",
        "        \"002\":\"Usseewa\",\n",
        "        \"003\":\"Ano Ko Secret\",\n",
        "        \"004\":\"Kagerou Days\",\n",
        "        \"005\":\"Daze\"\n",
        "        },\n",
        "    \"Video Game\":{\n",
        "        \"001\":\"CHAOS\",\n",
        "        \"002\":\"Who's Ready For Tomorrow?\",\n",
        "        \"003\":\"Moon Halo\",\n",
        "        \"004\":\"Roar Of The Jungle Dragon\",\n",
        "        \"005\":\"Universal Collapse\"\n",
        "        },\n",
        "    \"Rock\": {\n",
        "        \"001\":\"Through The Fire And Flames\",\n",
        "        \"002\":\"Road Of Resistance\",\n",
        "        \"003\":\"Seishun Complex\",\n",
        "        \"004\":\"Tengaku\",\n",
        "        \"005\":\"Senbonzakura\"\n",
        "        },\n",
        "    \"Vocal\": {\n",
        "        \"001\":\"Everlasting Guilty Crown\",\n",
        "        \"002\":\"Get Jinxed\",\n",
        "        \"003\":\"Shelter\",\n",
        "        \"004\":\"Die For You\",\n",
        "        \"005\":\"Everything Goes On\"\n",
        "        }\n",
        "    }"
      ]
    },
    {
      "cell_type": "markdown",
      "metadata": {
        "id": "ZMgltzOkhGBz"
      },
      "source": [
        "#### 6. Print the first song of the first genre"
      ]
    },
    {
      "cell_type": "code",
      "execution_count": 44,
      "metadata": {
        "id": "nmXUGoNWhGBz"
      },
      "outputs": [
        {
          "name": "stdout",
          "output_type": "stream",
          "text": [
            "SwingTek\n"
          ]
        }
      ],
      "source": [
        "# put your answer here\n",
        "print(new_song_dictionary[\"EDM\"][\"001\"])"
      ]
    },
    {
      "cell_type": "markdown",
      "metadata": {
        "id": "dEcgwp_ihGB0"
      },
      "source": [
        "#### 7. Print the first song of the last genre"
      ]
    },
    {
      "cell_type": "code",
      "execution_count": 45,
      "metadata": {
        "id": "ITbuWq2UhGB0"
      },
      "outputs": [
        {
          "name": "stdout",
          "output_type": "stream",
          "text": [
            "Everlasting Guilty Crown\n"
          ]
        }
      ],
      "source": [
        "# put your answer here\n",
        "print(new_song_dictionary[\"Vocal\"][\"001\"])"
      ]
    }
  ],
  "metadata": {
    "colab": {
      "include_colab_link": true,
      "provenance": []
    },
    "kernelspec": {
      "display_name": "Python 3",
      "language": "python",
      "name": "python3"
    },
    "language_info": {
      "codemirror_mode": {
        "name": "ipython",
        "version": 3
      },
      "file_extension": ".py",
      "mimetype": "text/x-python",
      "name": "python",
      "nbconvert_exporter": "python",
      "pygments_lexer": "ipython3",
      "version": "3.11.4"
    },
    "orig_nbformat": 4
  },
  "nbformat": 4,
  "nbformat_minor": 0
}
